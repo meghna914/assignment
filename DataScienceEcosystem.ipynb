{
 "cells": [
  {
   "cell_type": "markdown",
   "id": "b6685647-d8e3-4e48-8e8d-2bfee5edefce",
   "metadata": {},
   "source": [
    "# Data Science Tools and Ecosystem"
   ]
  },
  {
   "cell_type": "markdown",
   "id": "70316ba6-eca7-4bd9-a0e1-ca3f43b55ca6",
   "metadata": {},
   "source": [
    "\"In this notebook, Data Science Tools and Ecosystem are summarized.\""
   ]
  },
  {
   "cell_type": "markdown",
   "id": "836244e9-1c1c-4a4f-8d66-db2598259a98",
   "metadata": {},
   "source": [
    "**Objectives:**\n",
    "- popular languages are:\n",
    "- pyhton\n",
    "- r\n",
    "- many others"
   ]
  },
  {
   "cell_type": "markdown",
   "id": "afa14298-1e00-4d9a-bda8-fc8a751f0657",
   "metadata": {},
   "source": [
    "Some of the popular languages that Data Scientists use are:\n",
    "1. python\n",
    "2. r\n",
    "3. SQL\n",
    "4. Julia"
   ]
  },
  {
   "cell_type": "markdown",
   "id": "73175e81-03f3-4d4e-97f8-878ad9fd43cf",
   "metadata": {},
   "source": [
    "Some of the commonly used libraries used by Data Scientists include:\n",
    "1. PyTorch\n",
    "2. pandas\n",
    "3. TensorFlow\n",
    "4. ggplot2"
   ]
  },
  {
   "cell_type": "markdown",
   "id": "d81fd10c-5a30-476e-8f56-bb7b4ddec747",
   "metadata": {},
   "source": [
    "|Data Science Tools|\n",
    "|-------------------|\n",
    "|Jupyter notebook|\n",
    "|RStudio|\n",
    "|Apache Zeppelin|"
   ]
  },
  {
   "cell_type": "markdown",
   "id": "cd363839-83f5-46ef-a2c8-a401608f808e",
   "metadata": {},
   "source": [
    "### Below are a few examples of evaluating arithmetic expressions in Python\n",
    "- a=4\n",
    "- b=6\n",
    "- c=b+a\n",
    "- d=a*b*a\n",
    "- z=2*90+4//6*4"
   ]
  },
  {
   "cell_type": "code",
   "execution_count": 2,
   "id": "31ef7150-6bb4-4f34-a91f-e98d60d764c2",
   "metadata": {
    "tags": []
   },
   "outputs": [
    {
     "data": {
      "text/plain": [
       "17"
      ]
     },
     "execution_count": 2,
     "metadata": {},
     "output_type": "execute_result"
    }
   ],
   "source": [
    "# This a simple arithmetic expression to mutiply then add integers\n",
    "(3*4)+5"
   ]
  },
  {
   "cell_type": "code",
   "execution_count": 3,
   "id": "8cf797b3-2111-478e-b3c0-b92e7a42667d",
   "metadata": {
    "tags": []
   },
   "outputs": [
    {
     "name": "stdout",
     "output_type": "stream",
     "text": [
      "200 minutes is equal to 3.33 hours.\n"
     ]
    }
   ],
   "source": [
    "# This will convert 200 minutes to hours by diving by 60\n",
    "# Given minutes\n",
    "minutes = 200\n",
    "\n",
    "# Convert minutes to hours\n",
    "hours = minutes / 60\n",
    "\n",
    "print(f\"{minutes} minutes is equal to {hours:.2f} hours.\")"
   ]
  },
  {
   "cell_type": "markdown",
   "id": "8804cdc1-c698-4ca1-8692-0ff45798ef56",
   "metadata": {},
   "source": [
    "## Author\n",
    "meghna mishra"
   ]
  },
  {
   "cell_type": "code",
   "execution_count": null,
   "id": "4cd2ae6a-1c84-4d69-8741-d2c983171f6d",
   "metadata": {},
   "outputs": [],
   "source": []
  }
 ],
 "metadata": {
  "kernelspec": {
   "display_name": "Python",
   "language": "python",
   "name": "conda-env-python-py"
  },
  "language_info": {
   "codemirror_mode": {
    "name": "ipython",
    "version": 3
   },
   "file_extension": ".py",
   "mimetype": "text/x-python",
   "name": "python",
   "nbconvert_exporter": "python",
   "pygments_lexer": "ipython3",
   "version": "3.7.12"
  }
 },
 "nbformat": 4,
 "nbformat_minor": 5
}
